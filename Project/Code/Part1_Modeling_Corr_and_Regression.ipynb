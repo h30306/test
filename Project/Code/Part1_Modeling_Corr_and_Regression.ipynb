{
 "cells": [
  {
   "cell_type": "code",
   "execution_count": 1,
   "id": "22ee1b0f",
   "metadata": {
    "ExecuteTime": {
     "end_time": "2022-04-08T06:16:07.404450Z",
     "start_time": "2022-04-08T06:16:07.389750Z"
    }
   },
   "outputs": [],
   "source": [
    "import os\n",
    "import warnings\n",
    "#避免產生警告等不必要訊息\n",
    "warnings.filterwarnings('ignore')\n",
    "os.environ['TF_CPP_MIN_LOG_LEVEL'] = '3' "
   ]
  },
  {
   "cell_type": "code",
   "execution_count": null,
   "id": "7d465932",
   "metadata": {
    "ExecuteTime": {
     "end_time": "2022-04-07T15:05:10.640544Z",
     "start_time": "2022-04-07T15:04:26.327571Z"
    },
    "scrolled": false
   },
   "outputs": [],
   "source": [
    "from DataAnalysis import DataAnalysis"
   ]
  },
  {
   "cell_type": "code",
   "execution_count": null,
   "id": "3600014e",
   "metadata": {
    "ExecuteTime": {
     "end_time": "2022-04-07T15:05:23.915991Z",
     "start_time": "2022-04-07T15:05:23.591865Z"
    },
    "scrolled": false
   },
   "outputs": [],
   "source": [
    "from DataVisualizationVaccinationVariants import DataVisualizationVaccinationVariants"
   ]
  },
  {
   "cell_type": "code",
   "execution_count": null,
   "id": "87f8b3d5",
   "metadata": {
    "ExecuteTime": {
     "end_time": "2022-04-07T15:14:49.357988Z",
     "start_time": "2022-04-07T15:14:06.774912Z"
    },
    "scrolled": false
   },
   "outputs": [],
   "source": [
    "from MachineLearningModeling import MachineLearningModeling"
   ]
  },
  {
   "cell_type": "code",
   "execution_count": null,
   "id": "2a18733a",
   "metadata": {
    "ExecuteTime": {
     "end_time": "2022-04-07T15:16:53.407921Z",
     "start_time": "2022-04-07T15:16:50.183329Z"
    },
    "scrolled": false
   },
   "outputs": [],
   "source": [
    "from Prediction import Prediction"
   ]
  },
  {
   "cell_type": "code",
   "execution_count": 2,
   "id": "afbebd9e",
   "metadata": {
    "ExecuteTime": {
     "end_time": "2022-04-08T06:16:11.368780Z",
     "start_time": "2022-04-08T06:16:08.787638Z"
    }
   },
   "outputs": [
    {
     "data": {
      "application/vnd.jupyter.widget-view+json": {
       "model_id": "3cb246abd0b64e6eb1fc83520bdd55ab",
       "version_major": 2,
       "version_minor": 0
      },
      "text/plain": [
       "interactive(children=(Dropdown(description='Outcome', options=('case', 'death'), value='case'), Dropdown(descr…"
      ]
     },
     "metadata": {},
     "output_type": "display_data"
    }
   ],
   "source": [
    "from DataVisualizationVaccineType import DataVisualizationVaccineType"
   ]
  },
  {
   "cell_type": "code",
   "execution_count": null,
   "id": "3683ed2d",
   "metadata": {},
   "outputs": [],
   "source": []
  },
  {
   "cell_type": "code",
   "execution_count": null,
   "id": "a2a2e059",
   "metadata": {},
   "outputs": [],
   "source": []
  }
 ],
 "metadata": {
  "kernelspec": {
   "display_name": "tf24 (venv)",
   "language": "python",
   "name": "tf24"
  },
  "language_info": {
   "codemirror_mode": {
    "name": "ipython",
    "version": 3
   },
   "file_extension": ".py",
   "mimetype": "text/x-python",
   "name": "python",
   "nbconvert_exporter": "python",
   "pygments_lexer": "ipython3",
   "version": "3.8.6"
  }
 },
 "nbformat": 4,
 "nbformat_minor": 5
}
