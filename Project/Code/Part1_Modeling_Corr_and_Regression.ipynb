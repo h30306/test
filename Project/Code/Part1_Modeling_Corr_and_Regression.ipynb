{
 "cells": [
  {
   "cell_type": "code",
   "execution_count": 1,
   "id": "7d465932",
   "metadata": {
    "ExecuteTime": {
     "end_time": "2022-03-20T12:57:45.454812Z",
     "start_time": "2022-03-20T12:57:43.884938Z"
    }
   },
   "outputs": [
    {
     "data": {
      "application/vnd.jupyter.widget-view+json": {
       "model_id": "9aeef22bdf86465799a39534a27a25de",
       "version_major": 2,
       "version_minor": 0
      },
      "text/plain": [
       "interactive(children=(Dropdown(description='location', options=('Afghanistan', 'Africa', 'Albania', 'Algeria',…"
      ]
     },
     "metadata": {},
     "output_type": "display_data"
    }
   ],
   "source": [
    "from functions import scatter_and_correlation"
   ]
  },
  {
   "cell_type": "code",
   "execution_count": 2,
   "id": "3600014e",
   "metadata": {
    "ExecuteTime": {
     "end_time": "2022-03-20T12:58:00.241756Z",
     "start_time": "2022-03-20T12:57:59.905059Z"
    },
    "scrolled": false
   },
   "outputs": [
    {
     "data": {
      "application/vnd.jupyter.widget-view+json": {
       "model_id": "a2a28796df9c4460887542609455bca9",
       "version_major": 2,
       "version_minor": 0
      },
      "text/plain": [
       "interactive(children=(Dropdown(description='location', options=('Afghanistan', 'Africa', 'Albania', 'Algeria',…"
      ]
     },
     "metadata": {},
     "output_type": "display_data"
    }
   ],
   "source": [
    "from function2 import time_line_with_variable"
   ]
  },
  {
   "cell_type": "code",
   "execution_count": null,
   "id": "87f8b3d5",
   "metadata": {},
   "outputs": [],
   "source": []
  }
 ],
 "metadata": {
  "kernelspec": {
   "display_name": "Python 3.9.7 miniforge",
   "language": "python",
   "name": "python3"
  },
  "language_info": {
   "codemirror_mode": {
    "name": "ipython",
    "version": 3
   },
   "file_extension": ".py",
   "mimetype": "text/x-python",
   "name": "python",
   "nbconvert_exporter": "python",
   "pygments_lexer": "ipython3",
   "version": "3.9.7"
  }
 },
 "nbformat": 4,
 "nbformat_minor": 5
}
