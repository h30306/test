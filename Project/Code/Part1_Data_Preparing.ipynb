{
 "cells": [
  {
   "cell_type": "code",
   "execution_count": 68,
   "id": "19c014a0",
   "metadata": {
    "ExecuteTime": {
     "end_time": "2022-03-15T03:54:52.452453Z",
     "start_time": "2022-03-15T03:54:52.449150Z"
    }
   },
   "outputs": [],
   "source": [
    "import pandas as pd\n",
    "import numpy as np\n",
    "import warnings\n",
    "warnings.filterwarnings('ignore')\n",
    "pd.set_option(\"display.max_rows\",10) "
   ]
  },
  {
   "cell_type": "code",
   "execution_count": 69,
   "id": "6af3aa45",
   "metadata": {
    "ExecuteTime": {
     "end_time": "2022-03-15T03:54:52.951981Z",
     "start_time": "2022-03-15T03:54:52.949204Z"
    }
   },
   "outputs": [],
   "source": [
    "path='../Data'"
   ]
  },
  {
   "cell_type": "code",
   "execution_count": 70,
   "id": "36494d94",
   "metadata": {
    "ExecuteTime": {
     "end_time": "2022-03-15T03:54:53.472249Z",
     "start_time": "2022-03-15T03:54:53.029636Z"
    }
   },
   "outputs": [],
   "source": [
    "\"\"\"\n",
    "讀取df : covid stat data\n",
    "\"\"\"\n",
    "df = pd.read_csv(f\"{path}/owid-covid-data.csv\")\n",
    "df['date'] = pd.to_datetime(df['date'])"
   ]
  },
  {
   "cell_type": "markdown",
   "id": "e63978ca",
   "metadata": {},
   "source": [
    "1. 變種病毒欄位合併"
   ]
  },
  {
   "cell_type": "code",
   "execution_count": 71,
   "id": "6e14c800",
   "metadata": {
    "ExecuteTime": {
     "end_time": "2022-03-15T03:54:53.529497Z",
     "start_time": "2022-03-15T03:54:53.473464Z"
    }
   },
   "outputs": [],
   "source": [
    "\"\"\"\n",
    "讀取sars : 變種病毒統計資料\n",
    "\"\"\"\n",
    "sars = pd.read_csv(f\"{path}/SARS-CoV-2.csv\")\n",
    "\n",
    "\"\"\"\n",
    "拆解年份與第幾週\n",
    "\"\"\"\n",
    "def year_week(d):\n",
    "    d = d.split('-')\n",
    "    y, w = d[0], d[1]\n",
    "    return y, w.zfill(2)\n",
    "\n",
    "sars['year'], sars['week'] = zip(*sars['year_week'].apply(year_week))"
   ]
  },
  {
   "cell_type": "code",
   "execution_count": 72,
   "id": "ce8fd75d",
   "metadata": {
    "ExecuteTime": {
     "end_time": "2022-03-15T03:54:53.670624Z",
     "start_time": "2022-03-15T03:54:53.530289Z"
    }
   },
   "outputs": [],
   "source": [
    "\"\"\"\n",
    "保留需要用到的欄位，並將`country`改名為`location`，以便後續與OWID-COVID-DATA進行合併\n",
    "\"\"\"\n",
    "sars = sars[['country', 'variant', 'number_detections_variant', 'year', 'week']]\n",
    "sars.rename(columns={'country':'location'}, inplace=True)\n",
    "\n",
    "\"\"\"\n",
    "刪除重複資料\n",
    "\"\"\"\n",
    "sars.sort_values(['number_detections_variant'], ascending=False, inplace=True)\n",
    "sars.drop_duplicates(keep='first', inplace=True)\n",
    "\n",
    "\"\"\"\n",
    "計算各國家各週各變種病毒的案例，並且只取每週的加總值\n",
    "\"\"\"\n",
    "sars1 = sars.groupby(['location', 'year', 'week']).sum().reset_index()\n",
    "sars1 = sars1.fillna(0)\n",
    "sum_of_variant = sars1['number_detections_variant']\n",
    "\n",
    "\"\"\"\n",
    "計算各種病毒的數量\n",
    "\"\"\"\n",
    "sars1 = sars.groupby(['location', 'year', 'week', 'variant'])['number_detections_variant'].sum().unstack().reset_index()\n",
    "sars1 = sars1.fillna(0)\n",
    "sars1['number_detections_variant'] = sum_of_variant\n",
    "\"\"\"\n",
    "幫OWID-COVID-DATA新增`year`與`week`共兩個變數，以利合併(left join)\n",
    "\"\"\"\n",
    "df['year'] = df['date'].dt.year\n",
    "df['week'] = df['date'].dt.week\n",
    "df['year'] = df['year'].astype(str)\n",
    "df['week'] = df['week'].apply(lambda x:str(x).zfill(2))"
   ]
  },
  {
   "cell_type": "code",
   "execution_count": 73,
   "id": "ef450720",
   "metadata": {
    "ExecuteTime": {
     "end_time": "2022-03-15T03:54:54.102098Z",
     "start_time": "2022-03-15T03:54:53.671914Z"
    }
   },
   "outputs": [],
   "source": [
    "\"\"\"\n",
    "合併df, sars1兩個欄位\n",
    "\"\"\"\n",
    "df1 = pd.merge(df, sars1, on=['location', 'year', 'week'], how='left')\n",
    "\n",
    "\"\"\"\n",
    "由於變種病毒僅記錄30個國家的資訊，因此其餘國家皆補為0\n",
    "\"\"\"\n",
    "df1 = df1.fillna(0)\n",
    "\n",
    "\"\"\"\n",
    "將`year`與`week`兩個欄位刪除\n",
    "\"\"\"\n",
    "df1.drop(['year', 'week'], 1, inplace=True)"
   ]
  },
  {
   "cell_type": "markdown",
   "id": "170bd23d",
   "metadata": {},
   "source": [
    "2. 實施的防疫政策合併"
   ]
  },
  {
   "cell_type": "code",
   "execution_count": 74,
   "id": "ee5aae34",
   "metadata": {
    "ExecuteTime": {
     "end_time": "2022-03-15T03:54:54.108021Z",
     "start_time": "2022-03-15T03:54:54.102804Z"
    }
   },
   "outputs": [],
   "source": [
    "\"\"\"\n",
    "rep : 防疫政策數據\n",
    "\"\"\"\n",
    "rep = pd.read_csv(f\"{path}/response_graphs_data_2021-12-09.csv\")\n",
    "\n",
    "\"\"\"\n",
    "將`Country`改名為`location`，以便後續合併\n",
    "\"\"\"\n",
    "rep.rename(columns={'Country':'location'}, inplace=True)"
   ]
  },
  {
   "cell_type": "code",
   "execution_count": 75,
   "id": "02014262",
   "metadata": {
    "ExecuteTime": {
     "end_time": "2022-03-15T03:54:54.117298Z",
     "start_time": "2022-03-15T03:54:54.108989Z"
    }
   },
   "outputs": [],
   "source": [
    "\"\"\"\n",
    "確認有國家一天頒布兩個以上的政策，且並無存在政策只出現過一次的，因此以OneHotEnocoding的方式進行資料合併 (此資料為建模用)\n",
    "首先創建一個表包含2020-01-01至2020-12-10所有國家的空表格\n",
    "\"\"\"\n",
    "temp = [d.strftime('%Y-%m-%d') for d in pd.date_range('2020-01-01', '2021-12-10')]\n",
    "data = []\n",
    "for x in list(set(rep['location'])):\n",
    "    for d in temp:\n",
    "        data.append((x, d))\n",
    "new_rep = pd.DataFrame(data, columns=['location', 'date'])"
   ]
  },
  {
   "cell_type": "code",
   "execution_count": 76,
   "id": "f4a32dbf",
   "metadata": {
    "ExecuteTime": {
     "end_time": "2022-03-15T03:55:02.259379Z",
     "start_time": "2022-03-15T03:54:54.118870Z"
    }
   },
   "outputs": [],
   "source": [
    "\"\"\"\n",
    "為每一種政策新增一個空的欄位，從開始政策到結束政策都為1，沒有停止時間則後續全部都是1\n",
    "\"\"\"\n",
    "\n",
    "for x in list(set(rep['Response_measure'])):\n",
    "    new_rep[x] = np.nan\n",
    "\n",
    "for i in range(len(rep)):\n",
    "    l, r, s, e = rep.iloc[i, 0], rep.iloc[i, 1], rep.iloc[i, 2], rep.iloc[i, 3]\n",
    "    if not pd.isna(e):\n",
    "        new_rep[r][(new_rep['location']==l) & (new_rep['date']>=s) & (new_rep['date']<=e)] = 1\n",
    "    else:\n",
    "        new_rep[r][(new_rep['location'] == l) & (new_rep['date']>=s)] = 1\n",
    "\n",
    "new_rep = new_rep.fillna(0)\n",
    "new_rep['SumOfResponseMeasure'] = new_rep.iloc[:, 2:].sum(1)"
   ]
  },
  {
   "cell_type": "code",
   "execution_count": 77,
   "id": "f544a2a7",
   "metadata": {
    "ExecuteTime": {
     "end_time": "2022-03-15T03:55:02.666014Z",
     "start_time": "2022-03-15T03:55:02.260151Z"
    }
   },
   "outputs": [],
   "source": [
    "\"\"\"\n",
    "合併new_rep與df1資料表\n",
    "\"\"\"\n",
    "new_rep['date'] = pd.to_datetime(new_rep['date'])\n",
    "df2 = pd.merge(df1, new_rep, on=['date', 'location'], how='left')\n",
    "df2 = df2.fillna(0)"
   ]
  },
  {
   "cell_type": "code",
   "execution_count": 79,
   "id": "e74f7bff",
   "metadata": {
    "ExecuteTime": {
     "end_time": "2022-03-15T03:55:20.476911Z",
     "start_time": "2022-03-15T03:55:19.030614Z"
    },
    "scrolled": false
   },
   "outputs": [],
   "source": [
    "\"\"\"\n",
    "刪減df2資料，只留需要的欄位、改成適合閱讀的欄位名稱，並儲存\n",
    "\"\"\"\n",
    "df2 = df2[['location', 'date', 'new_cases', 'new_deaths', 'icu_patients', 'SumOfResponseMeasure', 'people_vaccinated_per_hundred', 'people_fully_vaccinated_per_hundred']+list(sars1)[3:]]\n",
    "column_dict = {'location':'Location', \n",
    "                 'date':'Date',\n",
    "                 'new_cases': 'New Cases',\n",
    "                 'new_deaths': 'New Deaths',\n",
    "                 'icu_patients': 'ICU Patients',\n",
    "                 'SumOfResponseMeasure': 'Prevention Policy',\n",
    "                 'people_vaccinated_per_hundred': 'People Vaccinated Per Hundred',\n",
    "                 'people_fully_vaccinated_per_hundred' : 'People Full Vaccinated Per Hundred',\n",
    "                 'number_detections_variant': 'Number of Detections Variant',\n",
    "                }\n",
    "column_dict.update({i:i for i in list(sars1)[3:-1]})\n",
    "df2.columns = df2.columns.map(column_dict)\n",
    "df2.to_csv(f'{path}/corr_and_regression_data.csv', index=False, encoding='utf-8-sig')"
   ]
  },
  {
   "cell_type": "code",
   "execution_count": null,
   "id": "1a4d2d13",
   "metadata": {},
   "outputs": [],
   "source": []
  }
 ],
 "metadata": {
  "kernelspec": {
   "display_name": "Python 3.9.7 miniforge",
   "language": "python",
   "name": "python3"
  },
  "language_info": {
   "codemirror_mode": {
    "name": "ipython",
    "version": 3
   },
   "file_extension": ".py",
   "mimetype": "text/x-python",
   "name": "python",
   "nbconvert_exporter": "python",
   "pygments_lexer": "ipython3",
   "version": "3.9.7"
  }
 },
 "nbformat": 4,
 "nbformat_minor": 5
}
